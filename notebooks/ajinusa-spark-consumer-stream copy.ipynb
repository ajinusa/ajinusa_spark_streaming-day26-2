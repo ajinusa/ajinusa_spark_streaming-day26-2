{
 "cells": [
  {
   "cell_type": "markdown",
   "metadata": {},
   "source": [
    "# Initialization"
   ]
  },
  {
   "cell_type": "code",
   "execution_count": 1,
   "metadata": {
    "tags": []
   },
   "outputs": [],
   "source": [
    "import json\n",
    "import uuid\n",
    "import os\n",
    "import json\n",
    "from dotenv import load_dotenv\n",
    "from pathlib import Path\n",
    "from kafka import KafkaProducer\n",
    "from faker import Faker\n",
    "from time import sleep"
   ]
  },
  {
   "cell_type": "code",
   "execution_count": 2,
   "metadata": {
    "tags": []
   },
   "outputs": [
    {
     "data": {
      "text/html": [
       "\n",
       "            <div>\n",
       "                <p><b>SparkSession - in-memory</b></p>\n",
       "                \n",
       "        <div>\n",
       "            <p><b>SparkContext</b></p>\n",
       "\n",
       "            <p><a href=\"http://dibimbing-jupyter:4040\">Spark UI</a></p>\n",
       "\n",
       "            <dl>\n",
       "              <dt>Version</dt>\n",
       "                <dd><code>v3.3.2</code></dd>\n",
       "              <dt>Master</dt>\n",
       "                <dd><code>local[*]</code></dd>\n",
       "              <dt>AppName</dt>\n",
       "                <dd><code>Dibimbing Spark-Kafka</code></dd>\n",
       "            </dl>\n",
       "        </div>\n",
       "        \n",
       "            </div>\n",
       "        "
      ],
      "text/plain": [
       "<pyspark.sql.session.SparkSession at 0x7f1567d0c0a0>"
      ]
     },
     "execution_count": 2,
     "metadata": {},
     "output_type": "execute_result"
    }
   ],
   "source": [
    "from pyspark.sql import SparkSession\n",
    "\n",
    "spark = (\n",
    "    SparkSession \n",
    "    .builder \n",
    "    .appName(\"Dibimbing Spark-Kafka\") \n",
    "    .config(\"spark.streaming.stopGracefullyOnShutdown\", True) \n",
    "    .config('spark.jars.packages', 'org.apache.spark:spark-sql-kafka-0-10_2.12:3.3.2')\n",
    "    .config(\"spark.sql.shuffle.partitions\", 4)\n",
    "    .master(\"local[*]\") \n",
    "    .getOrCreate()\n",
    ")\n",
    "\n",
    "spark"
   ]
  },
  {
   "cell_type": "code",
   "execution_count": 3,
   "metadata": {
    "tags": []
   },
   "outputs": [],
   "source": [
    "# streaming = (\n",
    "#     spark\n",
    "#     .readStream\n",
    "#     .schema(dataSchema)\n",
    "#     .option('maxFilesPerTrigger', 1)\n",
    "#     .json('/resources/data/activity-data/')\n",
    "# )"
   ]
  },
  {
   "cell_type": "code",
   "execution_count": 4,
   "metadata": {
    "tags": []
   },
   "outputs": [],
   "source": [
    "# # set partitions\n",
    "# spark.conf.set('spark.sql.shuffle.partitions', 5)"
   ]
  },
  {
   "cell_type": "code",
   "execution_count": 5,
   "metadata": {
    "tags": []
   },
   "outputs": [],
   "source": [
    "# activityCounts = streaming.select('index').distinct()\n",
    "# activityQuery = (\n",
    "#     activityCounts.writeStream\n",
    "#     .queryName('activity_counts_3')\n",
    "#     .format('memory')\n",
    "#     .outputMode('append')\n",
    "#     .start()\n",
    "# )\n",
    "\n",
    "# # activityQuery.awaitTermination()"
   ]
  },
  {
   "cell_type": "code",
   "execution_count": 6,
   "metadata": {
    "tags": []
   },
   "outputs": [],
   "source": [
    "# # activityQuery.awaitTermination()\n",
    "# activityQuery.stop()"
   ]
  },
  {
   "cell_type": "code",
   "execution_count": 7,
   "metadata": {
    "tags": []
   },
   "outputs": [],
   "source": [
    "# from time import sleep\n",
    "# for x in range(5):\n",
    "#     spark.sql(\"SELECT COUNT(*) FROM activity_counts_3\").show()\n",
    "#     sleep(1)"
   ]
  },
  {
   "cell_type": "markdown",
   "metadata": {},
   "source": [
    "# Spark - Kafka Streaming"
   ]
  },
  {
   "cell_type": "code",
   "execution_count": 8,
   "metadata": {
    "tags": []
   },
   "outputs": [
    {
     "data": {
      "text/plain": [
       "True"
      ]
     },
     "execution_count": 8,
     "metadata": {},
     "output_type": "execute_result"
    }
   ],
   "source": [
    "dotenv_path = Path('/resources/.env')\n",
    "load_dotenv(dotenv_path=dotenv_path)"
   ]
  },
  {
   "cell_type": "code",
   "execution_count": 9,
   "metadata": {
    "tags": []
   },
   "outputs": [],
   "source": [
    "kafka_host = os.getenv('KAFKA_HOST')\n",
    "kafka_topic = os.getenv('KAFKA_TOPIC_NAME')\n",
    "kafka_topic_partition = os.getenv('KAFKA_TOPIC_NAME')+\"-1\""
   ]
  },
  {
   "cell_type": "markdown",
   "metadata": {
    "tags": []
   },
   "source": [
    "## Batch Simulation"
   ]
  },
  {
   "cell_type": "code",
   "execution_count": 10,
   "metadata": {
    "tags": []
   },
   "outputs": [],
   "source": [
    "kafka_df = (\n",
    "    spark\n",
    "    .read\n",
    "    .format(\"kafka\")\n",
    "    .option(\"kafka.bootstrap.servers\", f'{kafka_host}:9092')\n",
    "    .option(\"subscribe\", kafka_topic)\n",
    "    .option(\"startingOffsets\", \"earliest\")\n",
    "    .load()\n",
    ")"
   ]
  },
  {
   "cell_type": "code",
   "execution_count": 11,
   "metadata": {
    "tags": []
   },
   "outputs": [
    {
     "name": "stdout",
     "output_type": "stream",
     "text": [
      "root\n",
      " |-- key: binary (nullable = true)\n",
      " |-- value: binary (nullable = true)\n",
      " |-- topic: string (nullable = true)\n",
      " |-- partition: integer (nullable = true)\n",
      " |-- offset: long (nullable = true)\n",
      " |-- timestamp: timestamp (nullable = true)\n",
      " |-- timestampType: integer (nullable = true)\n",
      "\n"
     ]
    }
   ],
   "source": [
    "kafka_df.printSchema()"
   ]
  },
  {
   "cell_type": "code",
   "execution_count": 12,
   "metadata": {
    "tags": []
   },
   "outputs": [
    {
     "name": "stdout",
     "output_type": "stream",
     "text": [
      "+----+--------------------+--------------------+---------+------+--------------------+-------------+\n",
      "| key|               value|               topic|partition|offset|           timestamp|timestampType|\n",
      "+----+--------------------+--------------------+---------+------+--------------------+-------------+\n",
      "|null|[7B 22 74 72 61 6...|apotek-dibimbing-...|        2|   252|2025-01-25 12:01:...|            0|\n",
      "|null|[7B 22 74 72 61 6...|apotek-dibimbing-...|        2|   253|2025-01-25 12:01:...|            0|\n",
      "|null|[7B 22 74 72 61 6...|apotek-dibimbing-...|        2|   254|2025-01-25 12:01:...|            0|\n",
      "|null|[7B 22 74 72 61 6...|apotek-dibimbing-...|        2|   255|2025-01-25 12:02:...|            0|\n",
      "|null|[7B 22 74 72 61 6...|apotek-dibimbing-...|        2|   256|2025-01-25 12:02:...|            0|\n",
      "|null|[7B 22 74 72 61 6...|apotek-dibimbing-...|        2|   257|2025-01-25 12:04:...|            0|\n",
      "|null|[7B 22 74 72 61 6...|apotek-dibimbing-...|        2|   258|2025-01-25 12:04:...|            0|\n",
      "|null|[7B 22 74 72 61 6...|apotek-dibimbing-...|        2|   259|2025-01-25 12:04:...|            0|\n",
      "|null|[7B 22 74 72 61 6...|apotek-dibimbing-...|        2|   260|2025-01-25 12:04:...|            0|\n",
      "|null|[7B 22 74 72 61 6...|apotek-dibimbing-...|        2|   261|2025-01-25 12:05:...|            0|\n",
      "|null|[7B 22 74 72 61 6...|apotek-dibimbing-...|        2|   262|2025-01-25 12:05:...|            0|\n",
      "|null|[7B 22 74 72 61 6...|apotek-dibimbing-...|        2|   263|2025-01-25 12:05:...|            0|\n",
      "|null|[7B 22 74 72 61 6...|apotek-dibimbing-...|        2|   264|2025-01-25 12:05:...|            0|\n",
      "|null|[7B 22 74 72 61 6...|apotek-dibimbing-...|        2|   265|2025-01-25 12:05:...|            0|\n",
      "|null|[7B 22 74 72 61 6...|apotek-dibimbing-...|        2|   266|2025-01-25 12:06:...|            0|\n",
      "|null|[7B 22 74 72 61 6...|apotek-dibimbing-...|        2|   267|2025-01-25 12:07:...|            0|\n",
      "|null|[7B 22 74 72 61 6...|apotek-dibimbing-...|        2|   268|2025-01-25 12:08:...|            0|\n",
      "|null|[7B 22 74 72 61 6...|apotek-dibimbing-...|        2|   269|2025-01-25 12:08:...|            0|\n",
      "|null|[7B 22 74 72 61 6...|apotek-dibimbing-...|        2|   270|2025-01-25 12:09:...|            0|\n",
      "|null|[7B 22 74 72 61 6...|apotek-dibimbing-...|        2|   271|2025-01-25 12:10:...|            0|\n",
      "+----+--------------------+--------------------+---------+------+--------------------+-------------+\n",
      "only showing top 20 rows\n",
      "\n"
     ]
    }
   ],
   "source": [
    "kafka_df.show()"
   ]
  },
  {
   "cell_type": "code",
   "execution_count": 13,
   "metadata": {
    "tags": []
   },
   "outputs": [],
   "source": [
    "from pyspark.sql.functions import expr\n",
    "\n",
    "kafka_json_df = kafka_df.withColumn(\"value\", expr(\"cast(value as string)\"))"
   ]
  },
  {
   "cell_type": "code",
   "execution_count": 14,
   "metadata": {
    "tags": []
   },
   "outputs": [
    {
     "name": "stdout",
     "output_type": "stream",
     "text": [
      "+----+--------------------+--------------------+---------+------+--------------------+-------------+\n",
      "| key|               value|               topic|partition|offset|           timestamp|timestampType|\n",
      "+----+--------------------+--------------------+---------+------+--------------------+-------------+\n",
      "|null|{\"transaction_id\"...|apotek-dibimbing-...|        2|   252|2025-01-25 12:01:...|            0|\n",
      "|null|{\"transaction_id\"...|apotek-dibimbing-...|        2|   253|2025-01-25 12:01:...|            0|\n",
      "|null|{\"transaction_id\"...|apotek-dibimbing-...|        2|   254|2025-01-25 12:01:...|            0|\n",
      "|null|{\"transaction_id\"...|apotek-dibimbing-...|        2|   255|2025-01-25 12:02:...|            0|\n",
      "|null|{\"transaction_id\"...|apotek-dibimbing-...|        2|   256|2025-01-25 12:02:...|            0|\n",
      "+----+--------------------+--------------------+---------+------+--------------------+-------------+\n",
      "only showing top 5 rows\n",
      "\n"
     ]
    }
   ],
   "source": [
    "kafka_json_df.show(5)"
   ]
  },
  {
   "cell_type": "code",
   "execution_count": 15,
   "metadata": {
    "tags": []
   },
   "outputs": [
    {
     "data": {
      "text/plain": [
       "[Row(value='{\"transaction_id\": \"98092f1b-6da2-4efc-abd2-61ea90f7e5bd\", \"buyer_name\": \"James Ward\", \"medication_name\": \"Paracetamol\", \"quantity\": 5, \"unit_price\": 4106, \"total_price\": 20530, \"payment_method\": \"Cash\", \"transaction_date\": \"2025-01-22\", \"transaction_time\": \"21:53:12\", \"ts\": 1737805179}'),\n",
       " Row(value='{\"transaction_id\": \"e3679d58-6d7b-4a0c-8e95-caae6ec41775\", \"buyer_name\": \"Brian Parker\", \"medication_name\": \"Cough Syrup\", \"quantity\": 2, \"unit_price\": 14700, \"total_price\": 29400, \"payment_method\": \"Cash\", \"transaction_date\": \"2025-01-04\", \"transaction_time\": \"04:37:14\", \"ts\": 1737806503}'),\n",
       " Row(value='{\"transaction_id\": \"c49ae644-3569-41ca-bcbb-24f28d1d2461\", \"buyer_name\": \"David Dixon\", \"medication_name\": \"Antibiotik\", \"quantity\": 2, \"unit_price\": 6861, \"total_price\": 13722, \"payment_method\": \"QRIS\", \"transaction_date\": \"2025-01-21\", \"transaction_time\": \"18:02:53\", \"ts\": 1737803917}'),\n",
       " Row(value='{\"transaction_id\": \"a280a4e4-cfd9-467c-ad09-16e5f3c612d9\", \"buyer_name\": \"Beth Gomez\", \"medication_name\": \"Amoxicillin\", \"quantity\": 2, \"unit_price\": 16352, \"total_price\": 32704, \"payment_method\": \"Debit Card\", \"transaction_date\": \"2025-01-02\", \"transaction_time\": \"15:31:31\", \"ts\": 1737803392}'),\n",
       " Row(value='{\"transaction_id\": \"f227d669-a5ff-463a-9fb1-159e3c018688\", \"buyer_name\": \"Rachel Bradley DVM\", \"medication_name\": \"Ibuprofen\", \"quantity\": 2, \"unit_price\": 6976, \"total_price\": 13952, \"payment_method\": \"Debit Card\", \"transaction_date\": \"2025-01-06\", \"transaction_time\": \"22:16:55\", \"ts\": 1737803549}')]"
      ]
     },
     "execution_count": 15,
     "metadata": {},
     "output_type": "execute_result"
    }
   ],
   "source": [
    "(\n",
    "    kafka_json_df\n",
    "    .select('value')\n",
    "    .limit(5)\n",
    "    .collect()\n",
    ")"
   ]
  },
  {
   "cell_type": "code",
   "execution_count": 16,
   "metadata": {
    "tags": []
   },
   "outputs": [],
   "source": [
    "from pyspark.sql.types import StructType, StructField, StringType, IntegerType, LongType\n",
    "\n",
    "\n",
    "schema = StructType([\n",
    "    StructField(\"transaction_id\", StringType(), True),\n",
    "    StructField(\"buyer_name\", StringType(), True),\n",
    "    StructField(\"medication_name\", StringType(), True),\n",
    "    StructField(\"quantity\", IntegerType(), True),\n",
    "    StructField(\"unit_price\", IntegerType(), True),\n",
    "    StructField(\"total_price\", IntegerType(), True),\n",
    "    StructField(\"payment_method\", StringType(), True),\n",
    "    StructField(\"transaction_date\", StringType(), True),\n",
    "    StructField(\"transaction_time\", StringType(), True),\n",
    "    StructField(\"ts\", StringType(), True),\n",
    "])\n"
   ]
  },
  {
   "cell_type": "code",
   "execution_count": 17,
   "metadata": {
    "tags": []
   },
   "outputs": [
    {
     "name": "stdout",
     "output_type": "stream",
     "text": [
      "+--------------------+------------------+---------------+--------+----------+-----------+--------------+----------------+----------------+----------+\n",
      "|      transaction_id|        buyer_name|medication_name|quantity|unit_price|total_price|payment_method|transaction_date|transaction_time|        ts|\n",
      "+--------------------+------------------+---------------+--------+----------+-----------+--------------+----------------+----------------+----------+\n",
      "|98092f1b-6da2-4ef...|        James Ward|    Paracetamol|       5|      4106|      20530|          Cash|      2025-01-22|        21:53:12|1737805179|\n",
      "|e3679d58-6d7b-4a0...|      Brian Parker|    Cough Syrup|       2|     14700|      29400|          Cash|      2025-01-04|        04:37:14|1737806503|\n",
      "|c49ae644-3569-41c...|       David Dixon|     Antibiotik|       2|      6861|      13722|          QRIS|      2025-01-21|        18:02:53|1737803917|\n",
      "|a280a4e4-cfd9-467...|        Beth Gomez|    Amoxicillin|       2|     16352|      32704|    Debit Card|      2025-01-02|        15:31:31|1737803392|\n",
      "|f227d669-a5ff-463...|Rachel Bradley DVM|      Ibuprofen|       2|      6976|      13952|    Debit Card|      2025-01-06|        22:16:55|1737803549|\n",
      "|182fb88c-f6cd-47c...|   Cameron Sherman|      Vitamin C|       3|     13248|      39744|          QRIS|      2025-01-14|        12:34:23|1737805393|\n",
      "|070e02a5-8714-43e...|      Angel Carter|      Ibuprofen|       3|     19598|      58794|    Debit Card|      2025-01-14|        05:17:36|1737803471|\n",
      "|72366424-0370-4a8...|     Donald Valdez|      Ibuprofen|       2|     11732|      23464|   Credit Card|      2025-01-18|        13:41:15|1737803248|\n",
      "|f97d78cb-8958-427...|  George Santos IV|      Ibuprofen|       4|     12129|      48516|   Credit Card|      2025-01-06|        14:09:30|1737804368|\n",
      "|c4b4bb40-830c-445...|        Amy Pruitt|    Amoxicillin|       5|     15971|      79855|          Cash|      2025-01-15|        17:11:39|1737804588|\n",
      "|8e817399-2573-4a0...|        Jamie Hart|      Ibuprofen|       2|      8404|      16808|          Cash|      2025-01-12|        16:58:10|1737803546|\n",
      "|5d977277-df5f-499...|     James Collins|     Antibiotik|       5|      3639|      18195|          QRIS|      2025-01-13|        07:27:18|1737806231|\n",
      "|83cc3c9e-2853-48b...|       Philip Rice|      Vitamin C|       4|      4505|      18020|   Credit Card|      2025-01-02|        01:48:46|1737806560|\n",
      "|78b316dc-0578-423...|      Brandy Moore|    Paracetamol|       4|     12641|      50564|    Debit Card|      2025-01-24|        23:02:40|1737806077|\n",
      "|dbc69b9d-fd33-4b8...|        Ryan Short|     Antibiotik|       4|      2883|      11532|   Credit Card|      2025-01-16|        16:16:37|1737803319|\n",
      "|01d2ba25-0064-4bd...|     Mary Caldwell|      Ibuprofen|       5|      2005|      10025|          Cash|      2025-01-19|        23:19:28|1737805474|\n",
      "|8647cd7e-42fc-45a...|   Jessica Perkins|     Antibiotik|       5|     19176|      95880|   Credit Card|      2025-01-23|        21:31:43|1737806718|\n",
      "|2225d4fb-4d18-4cd...|  Destiny Chandler|      Ibuprofen|       4|     15673|      62692|   Credit Card|      2025-01-23|        09:24:59|1737806849|\n",
      "|bc9fd169-1809-458...|     Andrew Garcia|      Ibuprofen|       1|     18949|      18949|   Credit Card|      2025-01-14|        20:31:43|1737806208|\n",
      "|580e2585-07f3-49a...|   Elizabeth Dixon|    Paracetamol|       3|     12929|      38787|          QRIS|      2025-01-10|        20:51:57|1737805625|\n",
      "+--------------------+------------------+---------------+--------+----------+-----------+--------------+----------------+----------------+----------+\n",
      "only showing top 20 rows\n",
      "\n"
     ]
    }
   ],
   "source": [
    "from pyspark.sql.functions import from_json, col\n",
    "\n",
    "(\n",
    "    kafka_json_df\n",
    "    .select(\n",
    "        from_json(col(\"value\"), schema)\n",
    "        .alias(\"data\")\n",
    "    )\n",
    "    .select(\"data.*\")\n",
    "    .show()\n",
    ")"
   ]
  },
  {
   "cell_type": "markdown",
   "metadata": {
    "tags": []
   },
   "source": [
    "## Stream Simulation"
   ]
  },
  {
   "cell_type": "code",
   "execution_count": 18,
   "metadata": {
    "tags": []
   },
   "outputs": [],
   "source": [
    "kafka_df = (\n",
    "    spark\n",
    "    .readStream\n",
    "    .format(\"kafka\")\n",
    "    .option(\"kafka.bootstrap.servers\", f'{kafka_host}:9092')\n",
    "    .option(\"subscribe\", kafka_topic)\n",
    "    .option(\"startingOffsets\", \"earliest\")\n",
    "    .load()\n",
    ")"
   ]
  },
  {
   "cell_type": "code",
   "execution_count": 19,
   "metadata": {
    "tags": []
   },
   "outputs": [],
   "source": [
    "from pyspark.sql.functions import from_json, col\n",
    "\n",
    "parsed_df = (\n",
    "    kafka_df\n",
    "    .withColumn(\"value\", expr(\"cast(value as string)\"))\n",
    "    .select(\n",
    "        from_json(col(\"value\"), schema)\n",
    "        .alias(\"data\")\n",
    "    )\n",
    "    .select(\"data.*\")\n",
    ")"
   ]
  },
  {
   "cell_type": "code",
   "execution_count": null,
   "metadata": {
    "tags": []
   },
   "outputs": [
    {
     "name": "stdout",
     "output_type": "stream",
     "text": [
      "root\n",
      " |-- transaction_id: string (nullable = true)\n",
      " |-- buyer_name: string (nullable = true)\n",
      " |-- medication_name: string (nullable = true)\n",
      " |-- quantity: integer (nullable = true)\n",
      " |-- unit_price: integer (nullable = true)\n",
      " |-- total_price: integer (nullable = true)\n",
      " |-- payment_method: string (nullable = true)\n",
      " |-- transaction_date: string (nullable = true)\n",
      " |-- transaction_time: string (nullable = true)\n",
      " |-- ts: timestamp (nullable = true)\n",
      "\n",
      "root\n",
      " |-- transaction_id: string (nullable = true)\n",
      " |-- buyer_name: string (nullable = true)\n",
      " |-- medication_name: string (nullable = true)\n",
      " |-- quantity: integer (nullable = true)\n",
      " |-- unit_price: integer (nullable = true)\n",
      " |-- total_price: integer (nullable = true)\n",
      " |-- payment_method: string (nullable = true)\n",
      " |-- transaction_date: string (nullable = true)\n",
      " |-- transaction_time: timestamp (nullable = true)\n",
      " |-- ts: timestamp (nullable = true)\n",
      "\n"
     ]
    }
   ],
   "source": [
    "from pyspark.sql.functions import col, from_unixtime, sum,to_timestamp\n",
    "\n",
    "\n",
    "# parsed_df = parsed_df.withColumn(\"ts\", from_unixtime(col(\"ts\")))\n",
    "# parsed_df = parsed_df.withColumn(\"ts\", to_timestamp(col(\"transaction_time\"), \"yyyy-MM-dd HH:mm:ss\"))\n",
    "\n",
    "parsed_df.printSchema()\n",
    "\n",
    "# Konversi kolom transaction_time ke timestamp\n",
    "parsed_df = parsed_df.withColumn(\"transaction_time\", to_timestamp(col(\"transaction_time\"), \"yyyy-MM-dd HH:mm:ss\"))\n",
    "\n",
    "# Periksa schema setelah konversi\n",
    "parsed_df.printSchema()\n",
    "\n",
    "# Menambahkan watermark berdasarkan kolom 'transaction_time'\n",
    "parsed_df_with_watermark = parsed_df.withWatermark(\"transaction_time\", \"10 minutes\") # untuk toleransi keterlambatan data\n",
    "\n",
    "\n",
    "# Agregasi data menggunakan groupBy dan sum\n",
    "aggregated_df = parsed_df_with_watermark.groupBy(\"payment_method\").agg(sum(\"total_price\").alias(\"total_sales\"))\n",
    "\n",
    "(\n",
    "aggregated_df.writeStream\n",
    "    .format(\"console\") \n",
    "    .outputMode(\"complete\")\n",
    "    .trigger(processingTime='5 minutes') # men-trigger event setiap waktu tertentu\n",
    "    .option('checkpointlocation', '/resources/logs')\n",
    "    .start()\n",
    "    .awaitTermination()\n",
    ")\n",
    "\n"
   ]
  },
  {
   "cell_type": "code",
   "execution_count": null,
   "metadata": {},
   "outputs": [],
   "source": [
    "# (\n",
    "#     parsed_df\n",
    "#     .writeStream\n",
    "#     .format(\"console\")\n",
    "#     .outputMode(\"append\")  # Gunakan 'append' jika tidak ada agregasi\n",
    "#     # .trigger(processingTime='5 seconds')\n",
    "#     # .trigger(continuous='1 second')\n",
    "#     # .trigger(once=true)\n",
    "#     .option(\"checkpointLocation\", \"checkpoint_dir\")\n",
    "#     # .option(\"failOnDataLoss\", \"false\")  # Tambahkan ini\n",
    "#     .start()\n",
    "#     .awaitTermination()\n",
    "# )"
   ]
  },
  {
   "cell_type": "markdown",
   "metadata": {},
   "source": []
  },
  {
   "cell_type": "code",
   "execution_count": null,
   "metadata": {},
   "outputs": [],
   "source": []
  }
 ],
 "metadata": {
  "kernelspec": {
   "display_name": "Python 3 (ipykernel)",
   "language": "python",
   "name": "python3"
  },
  "language_info": {
   "codemirror_mode": {
    "name": "ipython",
    "version": 3
   },
   "file_extension": ".py",
   "mimetype": "text/x-python",
   "name": "python",
   "nbconvert_exporter": "python",
   "pygments_lexer": "ipython3",
   "version": "3.10.10"
  }
 },
 "nbformat": 4,
 "nbformat_minor": 4
}
