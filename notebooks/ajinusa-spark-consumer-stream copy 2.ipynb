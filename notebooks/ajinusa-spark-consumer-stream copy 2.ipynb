{
 "cells": [
  {
   "cell_type": "markdown",
   "metadata": {},
   "source": [
    "# Initialization"
   ]
  },
  {
   "cell_type": "code",
   "execution_count": 1,
   "metadata": {
    "tags": []
   },
   "outputs": [],
   "source": [
    "import json\n",
    "import uuid\n",
    "import os\n",
    "import json\n",
    "from dotenv import load_dotenv\n",
    "from pathlib import Path\n",
    "from kafka import KafkaProducer\n",
    "from faker import Faker\n",
    "from time import sleep"
   ]
  },
  {
   "cell_type": "code",
   "execution_count": 2,
   "metadata": {
    "tags": []
   },
   "outputs": [
    {
     "data": {
      "text/html": [
       "\n",
       "            <div>\n",
       "                <p><b>SparkSession - in-memory</b></p>\n",
       "                \n",
       "        <div>\n",
       "            <p><b>SparkContext</b></p>\n",
       "\n",
       "            <p><a href=\"http://dibimbing-jupyter:4040\">Spark UI</a></p>\n",
       "\n",
       "            <dl>\n",
       "              <dt>Version</dt>\n",
       "                <dd><code>v3.3.2</code></dd>\n",
       "              <dt>Master</dt>\n",
       "                <dd><code>local[*]</code></dd>\n",
       "              <dt>AppName</dt>\n",
       "                <dd><code>Dibimbing Spark-Kafka</code></dd>\n",
       "            </dl>\n",
       "        </div>\n",
       "        \n",
       "            </div>\n",
       "        "
      ],
      "text/plain": [
       "<pyspark.sql.session.SparkSession at 0x7fa80adf2230>"
      ]
     },
     "execution_count": 2,
     "metadata": {},
     "output_type": "execute_result"
    }
   ],
   "source": [
    "from pyspark.sql import SparkSession\n",
    "\n",
    "spark = (\n",
    "    SparkSession \n",
    "    .builder \n",
    "    .appName(\"Dibimbing Spark-Kafka\") \n",
    "    .config(\"spark.streaming.stopGracefullyOnShutdown\", True) \n",
    "    .config('spark.jars.packages', 'org.apache.spark:spark-sql-kafka-0-10_2.12:3.3.2')\n",
    "    .config(\"spark.sql.shuffle.partitions\", 4)\n",
    "    .master(\"local[*]\") \n",
    "    .getOrCreate()\n",
    ")\n",
    "\n",
    "spark"
   ]
  },
  {
   "cell_type": "markdown",
   "metadata": {},
   "source": [
    "# Spark - Kafka Streaming"
   ]
  },
  {
   "cell_type": "code",
   "execution_count": 3,
   "metadata": {
    "tags": []
   },
   "outputs": [
    {
     "data": {
      "text/plain": [
       "True"
      ]
     },
     "execution_count": 3,
     "metadata": {},
     "output_type": "execute_result"
    }
   ],
   "source": [
    "dotenv_path = Path('/resources/.env')\n",
    "load_dotenv(dotenv_path=dotenv_path)"
   ]
  },
  {
   "cell_type": "code",
   "execution_count": 4,
   "metadata": {
    "tags": []
   },
   "outputs": [],
   "source": [
    "kafka_host = os.getenv('KAFKA_HOST')\n",
    "kafka_topic = os.getenv('KAFKA_TOPIC_NAME')\n",
    "kafka_topic_partition = os.getenv('KAFKA_TOPIC_NAME')+\"-1\""
   ]
  },
  {
   "cell_type": "code",
   "execution_count": 5,
   "metadata": {
    "tags": []
   },
   "outputs": [],
   "source": [
    "kafka_df = (\n",
    "    spark\n",
    "    .read\n",
    "    .format(\"kafka\")\n",
    "    .option(\"kafka.bootstrap.servers\", f'{kafka_host}:9092')\n",
    "    .option(\"subscribe\", kafka_topic)\n",
    "    .option(\"startingOffsets\", \"earliest\")\n",
    "    .load()\n",
    ")"
   ]
  },
  {
   "cell_type": "code",
   "execution_count": 6,
   "metadata": {
    "tags": []
   },
   "outputs": [
    {
     "name": "stdout",
     "output_type": "stream",
     "text": [
      "root\n",
      " |-- key: binary (nullable = true)\n",
      " |-- value: binary (nullable = true)\n",
      " |-- topic: string (nullable = true)\n",
      " |-- partition: integer (nullable = true)\n",
      " |-- offset: long (nullable = true)\n",
      " |-- timestamp: timestamp (nullable = true)\n",
      " |-- timestampType: integer (nullable = true)\n",
      "\n"
     ]
    }
   ],
   "source": [
    "kafka_df.printSchema()"
   ]
  },
  {
   "cell_type": "code",
   "execution_count": 7,
   "metadata": {
    "tags": []
   },
   "outputs": [
    {
     "name": "stdout",
     "output_type": "stream",
     "text": [
      "+----+--------------------+--------------------+---------+------+--------------------+-------------+\n",
      "| key|               value|               topic|partition|offset|           timestamp|timestampType|\n",
      "+----+--------------------+--------------------+---------+------+--------------------+-------------+\n",
      "|null|[7B 22 74 72 61 6...|apotek-dibimbing-...|        2|     0|2025-01-26 01:57:...|            0|\n",
      "|null|[7B 22 74 72 61 6...|apotek-dibimbing-...|        2|     1|2025-01-26 01:57:...|            0|\n",
      "|null|[7B 22 74 72 61 6...|apotek-dibimbing-...|        2|     2|2025-01-26 01:57:...|            0|\n",
      "|null|[7B 22 74 72 61 6...|apotek-dibimbing-...|        2|     3|2025-01-26 01:58:...|            0|\n",
      "|null|[7B 22 74 72 61 6...|apotek-dibimbing-...|        2|     4|2025-01-26 01:58:...|            0|\n",
      "|null|[7B 22 74 72 61 6...|apotek-dibimbing-...|        2|     5|2025-01-26 01:59:...|            0|\n",
      "|null|[7B 22 74 72 61 6...|apotek-dibimbing-...|        2|     6|2025-01-26 01:59:...|            0|\n",
      "|null|[7B 22 74 72 61 6...|apotek-dibimbing-...|        2|     7|2025-01-26 01:59:...|            0|\n",
      "|null|[7B 22 74 72 61 6...|apotek-dibimbing-...|        2|     8|2025-01-26 02:00:...|            0|\n",
      "|null|[7B 22 74 72 61 6...|apotek-dibimbing-...|        2|     9|2025-01-26 02:00:...|            0|\n",
      "|null|[7B 22 74 72 61 6...|apotek-dibimbing-...|        2|    10|2025-01-26 02:01:...|            0|\n",
      "|null|[7B 22 74 72 61 6...|apotek-dibimbing-...|        2|    11|2025-01-26 02:01:...|            0|\n",
      "|null|[7B 22 74 72 61 6...|apotek-dibimbing-...|        2|    12|2025-01-26 02:01:...|            0|\n",
      "|null|[7B 22 74 72 61 6...|apotek-dibimbing-...|        2|    13|2025-01-26 02:01:...|            0|\n",
      "|null|[7B 22 74 72 61 6...|apotek-dibimbing-...|        2|    14|2025-01-26 02:01:...|            0|\n",
      "|null|[7B 22 74 72 61 6...|apotek-dibimbing-...|        2|    15|2025-01-26 02:02:...|            0|\n",
      "|null|[7B 22 74 72 61 6...|apotek-dibimbing-...|        2|    16|2025-01-26 02:02:...|            0|\n",
      "|null|[7B 22 74 72 61 6...|apotek-dibimbing-...|        2|    17|2025-01-26 02:02:...|            0|\n",
      "|null|[7B 22 74 72 61 6...|apotek-dibimbing-...|        2|    18|2025-01-26 02:03:...|            0|\n",
      "|null|[7B 22 74 72 61 6...|apotek-dibimbing-...|        2|    19|2025-01-26 02:04:...|            0|\n",
      "+----+--------------------+--------------------+---------+------+--------------------+-------------+\n",
      "only showing top 20 rows\n",
      "\n"
     ]
    }
   ],
   "source": [
    "kafka_df.show()"
   ]
  },
  {
   "cell_type": "code",
   "execution_count": 8,
   "metadata": {
    "tags": []
   },
   "outputs": [],
   "source": [
    "from pyspark.sql.types import StructType, StructField, StringType, IntegerType, LongType,TimestampType\n",
    "\n",
    "\n",
    "schema = StructType([\n",
    "    StructField(\"transaction_id\", StringType(), True),\n",
    "    StructField(\"buyer_name\", StringType(), True),\n",
    "    StructField(\"medication_name\", StringType(), True),\n",
    "    StructField(\"quantity\", IntegerType(), True),\n",
    "    StructField(\"unit_price\", IntegerType(), True),\n",
    "    StructField(\"total_price\", IntegerType(), True),\n",
    "    StructField(\"payment_method\", StringType(), True),\n",
    "    StructField(\"transaction_date\", StringType(), True),\n",
    "    StructField(\"transaction_time\", StringType(), True),\n",
    "    StructField(\"ts\", TimestampType(), True),\n",
    "])\n"
   ]
  },
  {
   "cell_type": "markdown",
   "metadata": {
    "tags": []
   },
   "source": [
    "## Stream Simulation"
   ]
  },
  {
   "cell_type": "code",
   "execution_count": 9,
   "metadata": {
    "tags": []
   },
   "outputs": [],
   "source": [
    "kafka_df = (\n",
    "    spark\n",
    "    .readStream\n",
    "    .format(\"kafka\")\n",
    "    .option(\"kafka.bootstrap.servers\", f'{kafka_host}:9092')\n",
    "    .option(\"subscribe\", kafka_topic)\n",
    "    .option(\"startingOffsets\", \"earliest\")\n",
    "    .load()\n",
    ")"
   ]
  },
  {
   "cell_type": "code",
   "execution_count": 10,
   "metadata": {
    "tags": []
   },
   "outputs": [
    {
     "name": "stdout",
     "output_type": "stream",
     "text": [
      "root\n",
      " |-- transaction_id: string (nullable = true)\n",
      " |-- buyer_name: string (nullable = true)\n",
      " |-- medication_name: string (nullable = true)\n",
      " |-- quantity: integer (nullable = true)\n",
      " |-- unit_price: integer (nullable = true)\n",
      " |-- total_price: integer (nullable = true)\n",
      " |-- payment_method: string (nullable = true)\n",
      " |-- transaction_date: string (nullable = true)\n",
      " |-- transaction_time: string (nullable = true)\n",
      " |-- ts: timestamp (nullable = true)\n",
      "\n"
     ]
    }
   ],
   "source": [
    "from pyspark.sql.functions import from_json, col, expr\n",
    "\n",
    "parsed_df = (\n",
    "    kafka_df\n",
    "    .withColumn(\"value\", expr(\"cast(value as string)\"))\n",
    "    .select(\n",
    "        from_json(col(\"value\"), schema)\n",
    "        .alias(\"data\")\n",
    "    )\n",
    "    .select(\"data.*\")\n",
    ")\n",
    "\n",
    "parsed_df.printSchema()"
   ]
  },
  {
   "cell_type": "code",
   "execution_count": 11,
   "metadata": {
    "tags": []
   },
   "outputs": [],
   "source": [
    "# import shutil\n",
    "# shutil.rmtree('/resources/logs')"
   ]
  },
  {
   "cell_type": "code",
   "execution_count": null,
   "metadata": {},
   "outputs": [],
   "source": [
    "from pyspark.sql import functions as F\n",
    "from pyspark.sql.types import StructType, StructField, StringType, IntegerType\n",
    "from pyspark.sql.functions import to_timestamp, window\n",
    "from pyspark.sql.window import Window\n",
    "\n",
    "# Misalkan parsed_df adalah DataFrame yang sudah ada\n",
    "# Konversi kolom ts (timestamp) ke timestamp jika masih berupa string\n",
    "# parsed_df = parsed_df.withColumn(\"ts\", to_timestamp(\"ts\", \"yyyy-MM-dd HH:mm:ss\"))\n",
    "\n",
    "# Menambahkan watermark untuk mengabaikan event yang datang terlambat lebih dari 60 menit\n",
    "parsed_df_with_watermark = parsed_df.withWatermark(\"ts\", \"60 minutes\")\n",
    "\n",
    "# # Agregasi berdasarkan payment_method, dan hitung total price sampai timestamp terbaru\n",
    "# # Menggunakan window untuk menghitung agregasi berdasarkan waktu\n",
    "# aggregated_df = parsed_df_with_watermark.groupBy(\n",
    "#         # \"ts\",\n",
    "#         window(\"ts\", \"5 minutes\")  # 5 menit adalah interval waktu untuk window\n",
    "#     ) \\\n",
    "#     .agg(\n",
    "#         F.sum(\"total_price\").alias(\"total_sales\")\n",
    "#     ) \\\n",
    "#     .orderBy(\"window.start\")   # Urutkan berdasarkan window (timestamp)\n",
    "\n",
    "\n",
    "# 3. Agregasi berdasarkan window waktu (misalnya 1 menit) dan hitung total_price\n",
    "# Menggunakan window untuk menghitung agregasi berdasarkan waktu\n",
    "aggregated_df = parsed_df_with_watermark.groupBy(\n",
    "        window(\"ts\", \"5 minute\")  # 5 menit adalah interval waktu untuk window\n",
    "    ) \\\n",
    "    .agg(\n",
    "        F.sum(\"total_price\").alias(\"total_sales\")  # Agregasi sum dari total_price\n",
    "    ) \\\n",
    "    .select(\n",
    "        \"window.start\", \"window.end\", \"total_sales\"\n",
    "    )\n",
    "    # .orderBy(\"window.start\")  # Urutkan berdasarkan window (timestamp)\n",
    "\n",
    "# Apply window aggregation (5-minute window) to calculate total purchase\n",
    "# aggregated_df = parsed_df_with_watermark.groupBy(\n",
    "#     window(\"ts\", \"5 minutes\")  # 5-minute window\n",
    "# ) \\\n",
    "#     .agg(\n",
    "#         F.sum(\"total_price\").alias(\"total_sales\")\n",
    "#     ) \\\n",
    "#     .select(\n",
    "#         \"window.start\", \"window.end\", \"total_sales\"\n",
    "#     )\n",
    "\n",
    "# # Windowing specification for cumulative sum calculation\n",
    "# window_spec = Window.orderBy(\"start\").rowsBetween(Window.unboundedPreceding, 0)\n",
    "\n",
    "# # Calculate cumulative sum (daily running total)\n",
    "# cumulative_sales_df = aggregated_df.withColumn(\n",
    "#     \"daily_running_total\",\n",
    "#     F.sum(\"total_sales\").over(window_spec)\n",
    "# )\n",
    "\n",
    "\n",
    "\n",
    "# Tampilkan hasil di console (output mode complete)\n",
    "query = (\n",
    "    aggregated_df.writeStream\n",
    "    .outputMode(\"complete\")  # Gunakan \"complete\" untuk agregasi\n",
    "    .format(\"console\")  # Menampilkan hasil ke console\n",
    "    .trigger(processingTime=\"5 minutes\")  # Men-trigger event setiap 5 menit\n",
    "    # .option(\"checkpointLocation\", '/resources/logs')  # Lokasi checkpoint\n",
    "    .option(\"failOnDataLoss\", \"false\")  # Tambahkan ini\n",
    "    .start()\n",
    ")\n",
    "\n",
    "# Menunggu stream untuk berjalan\n",
    "query.awaitTermination()\n"
   ]
  },
  {
   "cell_type": "code",
   "execution_count": null,
   "metadata": {
    "tags": []
   },
   "outputs": [],
   "source": [
    "# from pyspark.sql.functions import col, from_unixtime, sum,to_timestamp\n",
    "\n",
    "\n",
    "# # parsed_df = parsed_df.withColumn(\"ts\", from_unixtime(col(\"ts\")))\n",
    "# # parsed_df = parsed_df.withColumn(\"ts\", to_timestamp(col(\"transaction_time\"), \"yyyy-MM-dd HH:mm:ss\"))\n",
    "\n",
    "# parsed_df.printSchema()\n",
    "\n",
    "# # Konversi kolom transaction_time ke timestamp\n",
    "# parsed_df = parsed_df.withColumn(\"ts\", to_timestamp(col(\"ts\"), \"yyyy-MM-dd HH:mm:ss\"))\n",
    "\n",
    "# # Periksa schema setelah konversi\n",
    "# parsed_df.printSchema()\n",
    "\n",
    "# # Menambahkan watermark berdasarkan kolom 'transaction_time'\n",
    "# parsed_df_with_watermark = parsed_df.withWatermark(\"ts\", \"60 minutes\") # untuk toleransi keterlambatan data\n",
    "\n",
    "\n",
    "# # Agregasi data menggunakan groupBy dan sum\n",
    "# aggregated_df = parsed_df_with_watermark.groupBy(\"payment_method\").agg(sum(\"total_price\").alias(\"total_sales\"))\n",
    "\n",
    "# (\n",
    "# aggregated_df.writeStream\n",
    "#     .format(\"console\") \n",
    "#     .outputMode(\"complete\")\n",
    "#     .trigger(processingTime='5 minutes') # men-trigger event setiap waktu tertentu\n",
    "#     .option('checkpointlocation', '/resources/logs')\n",
    "#     .start()\n",
    "#     .awaitTermination()\n",
    "# )\n",
    "\n"
   ]
  },
  {
   "cell_type": "code",
   "execution_count": null,
   "metadata": {},
   "outputs": [],
   "source": [
    "# (\n",
    "#     parsed_df\n",
    "#     .writeStream\n",
    "#     .format(\"console\")\n",
    "#     .outputMode(\"append\")  # Gunakan 'append' jika tidak ada agregasi\n",
    "#     # .trigger(processingTime='5 seconds')\n",
    "#     # .trigger(continuous='1 second')\n",
    "#     # .trigger(once=true)\n",
    "#     .option(\"checkpointLocation\", \"checkpoint_dir\")\n",
    "#     # .option(\"failOnDataLoss\", \"false\")  # Tambahkan ini\n",
    "#     .start()\n",
    "#     .awaitTermination()\n",
    "# )"
   ]
  },
  {
   "cell_type": "markdown",
   "metadata": {},
   "source": []
  },
  {
   "cell_type": "code",
   "execution_count": null,
   "metadata": {},
   "outputs": [],
   "source": []
  }
 ],
 "metadata": {
  "kernelspec": {
   "display_name": "Python 3 (ipykernel)",
   "language": "python",
   "name": "python3"
  },
  "language_info": {
   "codemirror_mode": {
    "name": "ipython",
    "version": 3
   },
   "file_extension": ".py",
   "mimetype": "text/x-python",
   "name": "python",
   "nbconvert_exporter": "python",
   "pygments_lexer": "ipython3",
   "version": "3.10.10"
  }
 },
 "nbformat": 4,
 "nbformat_minor": 4
}
